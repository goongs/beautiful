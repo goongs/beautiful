{
  "nbformat": 4,
  "nbformat_minor": 0,
  "metadata": {
    "colab": {
      "name": "beautiful.ipynb의 사본",
      "private_outputs": true,
      "provenance": [],
      "collapsed_sections": [],
      "authorship_tag": "ABX9TyM/HrxBZHQbkSOtAW6YcHjI",
      "include_colab_link": true
    },
    "kernelspec": {
      "name": "python3",
      "display_name": "Python 3"
    },
    "language_info": {
      "name": "python"
    }
  },
  "cells": [
    {
      "cell_type": "markdown",
      "metadata": {
        "id": "view-in-github",
        "colab_type": "text"
      },
      "source": [
        "<a href=\"https://colab.research.google.com/github/goongs/beautiful/blob/main/beautiful_ipynb.ipynb\" target=\"_parent\"><img src=\"https://colab.research.google.com/assets/colab-badge.svg\" alt=\"Open In Colab\"/></a>"
      ]
    },
    {
      "cell_type": "code",
      "metadata": {
        "id": "mHGgI-DHhEHk"
      },
      "source": [
        "from bs4 import BeautifulSoup\n",
        "import urllib.request\n",
        "from urllib.parse import quote\n",
        "import pandas as pd\n",
        "from collections import Counter\n",
        "from konlpy.tag import Mecab\n",
        "\n",
        "def get_movie_reviews(mcode, page_num=10):\n",
        "  \n",
        "  movie_review_df = pd.DataFrame(columns=(\"Title\",\"Score\",\"Review\"))\n",
        "  url = \"https://movie.naver.com/movie/point/af/list.naver?st=mcode&sword=\"+str(mcode)+\"&target=after\"\n",
        "  idx = 0\n",
        "  for _ in range(0, page_num):\n",
        "    movie_page = urllib.request.urlopen(url).read()\n",
        "    movie_page_soup = BeautifulSoup(movie_page, 'html.parser')\n",
        "\n",
        "    review_list = movie_page_soup.find_all('td',{'class':'title'})\n",
        "    for review in review_list:\n",
        "      title = review.find('a', {'class':'movie color_b'}).get_text()\n",
        "      score = review.find('em').get_text()\n",
        "      review_text = review.find('a',{'class':'report'}).get('onclick').split(',')[2]\n",
        "      movie_review_df.loc[idx] = [title, score, review_text]\n",
        "      idx += 1\n",
        "      print(\"#\",end=\"\")\n",
        "    try:\n",
        "      url = \"https://movie.naver.com/\" + movie_page_soup.find('a',{'class':'pg_next'}).get('href')\n",
        "    except:\n",
        "     \n",
        "      break\n",
        "\n",
        "  return movie_review_df\n",
        "def get_meanscore(mcode):\n",
        "  url = \"https://movie.naver.com/movie/point/af/list.naver?st=mcode&sword=\"+str(mcode)+\"&target=after\"\n",
        "  html = urllib.request.urlopen(url).read()\n",
        "  soup = BeautifulSoup(html, 'html.parser')\n",
        "  meanscore1 = soup.find('table',{'class':'info_area'})\n",
        "  meanscore2 = meanscore1.find('strong').get_text()[0:3]\n",
        "  meanscore=float(meanscore2)\n",
        "  return meanscore"
      ],
      "execution_count": null,
      "outputs": []
    },
    {
      "cell_type": "code",
      "metadata": {
        "id": "Oy2stlC8ySRE"
      },
      "source": [
        "url = \"https://movie.naver.com/movie/point/af/list.naver\"\n",
        "naver_movie = urllib.request.urlopen(url).read()\n",
        "soup = BeautifulSoup(naver_movie, 'html.parser')\n",
        "select = soup.find('select',{'id' : 'current_movie'})\n",
        "movies = select.find_all('option')\n",
        "meanscore1 = {}\n",
        "idx1=0\n",
        "movies_dict = {}\n",
        "for movie in movies[1:]:\n",
        "  movies_dict[movie.get('value')] = movie.get_text()\n",
        "\n",
        "movie_review_df = pd.DataFrame(columns=(\"Title\",\"Score\",\"Review\"))\n",
        "for mcode in movies_dict:\n",
        "  df = get_movie_reviews(mcode, 5)\n",
        "  movie_review_df = pd.concat([movie_review_df, df])\n",
        "  meanscore1[idx1]=get_meanscore(mcode)\n",
        "  idx1+=1\n",
        "\n"
      ],
      "execution_count": null,
      "outputs": []
    },
    {
      "cell_type": "code",
      "metadata": {
        "id": "VMIspnSk4ejs"
      },
      "source": [
        "movie_mean_score = pd.DataFrame(columns=(\"Title\",\"meanscore\"))\n",
        "url = \"https://movie.naver.com/movie/point/af/list.naver\"\n",
        "soup1 = BeautifulSoup(naver_movie, 'html.parser')\n",
        "select = soup.find('select',{'id' : 'current_movie'})\n",
        "movies = select.find_all('option')\n",
        "movies_dict = {}\n",
        "for movie in movies[1:]:\n",
        "  movies_dict[movie.get('value')] = movie.get_text()\n",
        "movies_list=list(movies_dict.values())\n",
        "movie_mean_score[\"Title\"]=movies_list\n",
        "score_list=list(meanscore1.values())\n",
        "movie_mean_score[\"meanscore\"] = score_list\n",
        "stopword_words = \"영화 전 난 일 걸 뭐 줄 만 건 분 개 끝 잼 이거 번 중 듯 때 게 내 말 나 수 거 점 것 제 기\"\n",
        "stopword_words = stopword_words.split(' ')\n",
        "\n",
        "\n",
        "\n",
        "\n",
        "\n",
        "\n",
        "\n",
        "\n",
        "\n",
        "\n",
        "\n",
        "\n",
        "\n"
      ],
      "execution_count": null,
      "outputs": []
    },
    {
      "cell_type": "code",
      "metadata": {
        "id": "V39aAGXZzhFB"
      },
      "source": [
        "def favorite(a):\n",
        "    fs = movie_mean_score.drop([], axis=0)\n",
        "    de = movie_mean_score[movie_mean_score[\"meanscore\"] < a].index\n",
        "    de1 = movie_mean_score.drop(de)\n",
        "    return de1\n",
        "\n",
        "\n",
        "def keyword(b):\n",
        "    pp = movie_review_df[movie_review_df['Title'] == b]\n",
        "    review2 = pp['Review']\n",
        "    review3 = []\n",
        "    review5 = []\n",
        "    for i in range(0, 9):\n",
        "        review3 += str(review2[i])\n",
        "    review4 = str.join('', review3)\n",
        "    review5 = review4.split(' ')\n",
        "    tagger = Mecab()\n",
        "\n",
        "    nouns = []\n",
        "    for review6 in review5:\n",
        "      for noun in tagger.nouns(review6):\n",
        "        if noun not in stopword_words:\n",
        "          nouns.append(noun)\n",
        "    nouns_counter = Counter(nouns)\n",
        "    top_nouns = dict(nouns_counter.most_common(5))\n",
        "    return top_nouns\n",
        "  \n",
        "\n",
        "\n",
        "\n",
        "  \n",
        "\n"
      ],
      "execution_count": null,
      "outputs": []
    },
    {
      "cell_type": "code",
      "metadata": {
        "id": "OyTm4hO_2Kua"
      },
      "source": [
        "\n",
        "print('평점 기대치:')\n",
        "a=float(input())\n",
        "fas=favorite(a)\n",
        "print(fas)\n",
        "print('영화 선택:')\n",
        "b=input()\n",
        "topiclist={}\n",
        "topiclist=keyword(b)\n",
        "print(topiclist)\n",
        "\n",
        "\n",
        "\n",
        "\n",
        "\n",
        "\n"
      ],
      "execution_count": null,
      "outputs": []
    },
    {
      "cell_type": "code",
      "metadata": {
        "id": "XWo0RrUfBKaX"
      },
      "source": [
        "movie_mean_score"
      ],
      "execution_count": null,
      "outputs": []
    },
    {
      "cell_type": "code",
      "metadata": {
        "id": "JMWUag9q-_QY"
      },
      "source": [
        "movie_review_df"
      ],
      "execution_count": null,
      "outputs": []
    }
  ]
}